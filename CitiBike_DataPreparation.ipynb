{
 "cells": [
  {
   "cell_type": "code",
   "execution_count": 1,
   "id": "a3d54096",
   "metadata": {},
   "outputs": [],
   "source": [
    "# Dependencies and Setup\n",
    "# -------------------------------------------\n",
    "import pandas as pd\n",
    "import numpy as np\n",
    "import os\n",
    "import glob"
   ]
  },
  {
   "cell_type": "code",
   "execution_count": 2,
   "id": "b4bb6830",
   "metadata": {},
   "outputs": [
    {
     "data": {
      "text/plain": [
       "'C:\\\\Users\\\\alysh\\\\OneDrive\\\\UWA\\\\GitHub\\\\tableau-challenge'"
      ]
     },
     "execution_count": 2,
     "metadata": {},
     "output_type": "execute_result"
    }
   ],
   "source": [
    "# Get folder location\n",
    "# -------------------------------------------\n",
    "os.getcwd()"
   ]
  },
  {
   "cell_type": "code",
   "execution_count": 3,
   "id": "f3cf1457",
   "metadata": {},
   "outputs": [],
   "source": [
    "# Use glob to match the pattern ‘csv’\n",
    "# -------------------------------------------\n",
    "os.chdir(\"C:/Users/alysh/OneDrive/UWA/GitHub/tableau-challenge/data\")\n",
    "extension = 'csv'\n",
    "all_filenames = [i for i in glob.glob('*.{}'.format(extension))]"
   ]
  },
  {
   "cell_type": "code",
   "execution_count": 4,
   "id": "51dc602b",
   "metadata": {},
   "outputs": [],
   "source": [
    "# Combine all files in the list\n",
    "# -------------------------------------------\n",
    "combined_CitiBike = pd.concat([pd.read_csv(f) for f in all_filenames ])"
   ]
  },
  {
   "cell_type": "code",
   "execution_count": 5,
   "id": "0d67dc61",
   "metadata": {},
   "outputs": [
    {
     "data": {
      "text/plain": [
       "(1107265, 15)"
      ]
     },
     "execution_count": 5,
     "metadata": {},
     "output_type": "execute_result"
    }
   ],
   "source": [
    "# View number of rows and columns in combined dataframe\n",
    "# -------------------------------------------\n",
    "combined_CitiBike.shape"
   ]
  },
  {
   "cell_type": "code",
   "execution_count": 6,
   "id": "43cf9036",
   "metadata": {},
   "outputs": [
    {
     "data": {
      "text/plain": [
       "0"
      ]
     },
     "execution_count": 6,
     "metadata": {},
     "output_type": "execute_result"
    }
   ],
   "source": [
    "# Check for any null values\n",
    "# -------------------------------------------\n",
    "combined_CitiBike.isnull().sum().sum()"
   ]
  },
  {
   "cell_type": "code",
   "execution_count": 7,
   "id": "6ac7db0c",
   "metadata": {},
   "outputs": [
    {
     "name": "stdout",
     "output_type": "stream",
     "text": [
      "Index(['tripduration', 'starttime', 'stoptime', 'start station id',\n",
      "       'start station name', 'start station latitude',\n",
      "       'start station longitude', 'end station id', 'end station name',\n",
      "       'end station latitude', 'end station longitude', 'bikeid', 'usertype',\n",
      "       'birth year', 'gender'],\n",
      "      dtype='object')\n"
     ]
    }
   ],
   "source": [
    "# Print list of columns in DataFrame\n",
    "# -------------------------------------------\n",
    "print(combined_CitiBike.columns)"
   ]
  },
  {
   "cell_type": "code",
   "execution_count": 8,
   "id": "707a3ba1",
   "metadata": {},
   "outputs": [
    {
     "data": {
      "text/plain": [
       "tripduration                 int64\n",
       "starttime                   object\n",
       "stoptime                    object\n",
       "start station id             int64\n",
       "start station name          object\n",
       "start station latitude     float64\n",
       "start station longitude    float64\n",
       "end station id               int64\n",
       "end station name            object\n",
       "end station latitude       float64\n",
       "end station longitude      float64\n",
       "bikeid                       int64\n",
       "usertype                    object\n",
       "birth year                   int64\n",
       "gender                       int64\n",
       "dtype: object"
      ]
     },
     "execution_count": 8,
     "metadata": {},
     "output_type": "execute_result"
    }
   ],
   "source": [
    "# Print list of data types in DataFrame\n",
    "# -------------------------------------------\n",
    "combined_CitiBike.dtypes"
   ]
  },
  {
   "cell_type": "code",
   "execution_count": 9,
   "id": "11e5020a",
   "metadata": {},
   "outputs": [],
   "source": [
    "# Change start and stop time data type from \n",
    "# -------------------------------------------\n",
    "combined_CitiBike['starttime']= pd.to_datetime(combined_CitiBike['starttime'])\n",
    "combined_CitiBike['stoptime']= pd.to_datetime(combined_CitiBike['stoptime'])"
   ]
  },
  {
   "cell_type": "code",
   "execution_count": 10,
   "id": "6c8bf9cc",
   "metadata": {},
   "outputs": [],
   "source": [
    "# Change the int gender values to reflect relevant string description\n",
    "# Gender (Zero=unknown; 1=male; 2=female)\n",
    "# -------------------------------------------\n",
    "combined_CitiBike['gender']= combined_CitiBike['gender'].map({0: \"Unknown\", 1: \"Male\", 2: \"Female\"})"
   ]
  },
  {
   "cell_type": "code",
   "execution_count": 12,
   "id": "50184486",
   "metadata": {},
   "outputs": [],
   "source": [
    "# Change the int guser types values to reflect relevant string description \n",
    "# User Type (Customer = 24-hour pass or 3-day pass user; Subscriber = Annual Member)\n",
    "# -------------------------------------------\n",
    "combined_CitiBike['usertype_description']= combined_CitiBike['usertype'].map({\"Customer\":\"24-hour pass or 3-day pass user\", \"Subscriber\": \"Annual Member\"})"
   ]
  },
  {
   "cell_type": "code",
   "execution_count": 16,
   "id": "6c22b37f",
   "metadata": {},
   "outputs": [
    {
     "data": {
      "text/plain": [
       "Annual Member                      934825\n",
       "24-hour pass or 3-day pass user    172440\n",
       "Name: usertype_description, dtype: int64"
      ]
     },
     "execution_count": 16,
     "metadata": {},
     "output_type": "execute_result"
    }
   ],
   "source": [
    "# Display dataframe\n",
    "# -------------------------------------------\n",
    "combined_CitiBike[\"usertype_description\"].value_counts()"
   ]
  },
  {
   "cell_type": "code",
   "execution_count": 17,
   "id": "db054bed",
   "metadata": {},
   "outputs": [],
   "source": [
    "# Save DataFrame to csv file\n",
    "# -------------------------------------------\n",
    "combined_CitiBike.to_csv( \"CitiBike_Complete.csv\", index=False, encoding='utf-8-sig')"
   ]
  }
 ],
 "metadata": {
  "kernelspec": {
   "display_name": "Python 3",
   "language": "python",
   "name": "python3"
  },
  "language_info": {
   "codemirror_mode": {
    "name": "ipython",
    "version": 3
   },
   "file_extension": ".py",
   "mimetype": "text/x-python",
   "name": "python",
   "nbconvert_exporter": "python",
   "pygments_lexer": "ipython3",
   "version": "3.6.10"
  }
 },
 "nbformat": 4,
 "nbformat_minor": 5
}
